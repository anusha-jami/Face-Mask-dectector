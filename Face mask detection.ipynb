** Face-Mask-dectector Graduate Rotational Internship Program - The Sparks Foundation
Computer Vision & Internet of Things - Detection of face mask (real time)
Submitted by - Shvetha M Nambiar
Code:
Import libraries **
